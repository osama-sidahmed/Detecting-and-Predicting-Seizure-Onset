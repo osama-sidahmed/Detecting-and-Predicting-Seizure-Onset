{
 "cells": [
  {
   "cell_type": "code",
   "execution_count": 1,
   "metadata": {
    "ExecuteTime": {
     "end_time": "2021-03-18T14:48:26.629193Z",
     "start_time": "2021-03-18T14:48:26.425527Z"
    }
   },
   "outputs": [
    {
     "name": "stdout",
     "output_type": "stream",
     "text": [
      "(8+0j) * exp(2 pi i t * 0.0)\n",
      "   -4j * exp(2 pi i t * 0.25)\n",
      "    4j * exp(2 pi i t * -0.25)\n"
     ]
    }
   ],
   "source": [
    "# import required modules \n",
    "import numpy as np \n",
    "  \n",
    "# assign data \n",
    "x = np.array([1, 2, 1, 0, 1, 2, 1, 0]) \n",
    "  \n",
    "# compute DFT with optimized FFT \n",
    "w = np.fft.fft(x) \n",
    "  \n",
    "# compute frequency associated \n",
    "# with coefficients \n",
    "freqs = np.fft.fftfreq(len(x)) \n",
    "  \n",
    "# extract frequencies associated with FFT values \n",
    "for coef, freq in zip(w, freqs): \n",
    "    if coef: \n",
    "        print('{c:>6} * exp(2 pi i t * {f})'.format(c=coef, \n",
    "                                                    f=freq)) \n",
    "    "
   ]
  },
  {
   "cell_type": "code",
   "execution_count": 2,
   "metadata": {
    "ExecuteTime": {
     "end_time": "2021-03-18T14:48:40.437011Z",
     "start_time": "2021-03-18T14:48:40.425185Z"
    }
   },
   "outputs": [
    {
     "data": {
      "text/plain": [
       "array([ 0.   ,  0.125,  0.25 ,  0.375, -0.5  , -0.375, -0.25 , -0.125])"
      ]
     },
     "execution_count": 2,
     "metadata": {},
     "output_type": "execute_result"
    }
   ],
   "source": [
    "freqs"
   ]
  },
  {
   "cell_type": "code",
   "execution_count": null,
   "metadata": {},
   "outputs": [],
   "source": []
  },
  {
   "cell_type": "code",
   "execution_count": null,
   "metadata": {},
   "outputs": [],
   "source": []
  }
 ],
 "metadata": {
  "hide_input": false,
  "kernelspec": {
   "display_name": "capstone",
   "language": "python",
   "name": "capstone"
  },
  "language_info": {
   "codemirror_mode": {
    "name": "ipython",
    "version": 3
   },
   "file_extension": ".py",
   "mimetype": "text/x-python",
   "name": "python",
   "nbconvert_exporter": "python",
   "pygments_lexer": "ipython3",
   "version": "3.8.3"
  },
  "toc": {
   "base_numbering": 1,
   "nav_menu": {},
   "number_sections": true,
   "sideBar": true,
   "skip_h1_title": false,
   "title_cell": "Table of Contents",
   "title_sidebar": "Contents",
   "toc_cell": false,
   "toc_position": {},
   "toc_section_display": true,
   "toc_window_display": false
  }
 },
 "nbformat": 4,
 "nbformat_minor": 4
}
