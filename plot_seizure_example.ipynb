{
 "cells": [
  {
   "cell_type": "code",
   "execution_count": 1,
   "metadata": {
    "ExecuteTime": {
     "end_time": "2021-03-12T15:44:22.374341Z",
     "start_time": "2021-03-12T15:44:21.731601Z"
    }
   },
   "outputs": [],
   "source": [
    "%matplotlib inline"
   ]
  },
  {
   "cell_type": "markdown",
   "metadata": {},
   "source": [
    "\n",
    "============================================\n",
    "Seizure detection example with MNE-Features.\n",
    "============================================\n",
    "\n",
    "The example is aimed at showing how MNE-Features can be used to design an\n",
    "efficient seizure detection algorithm. To this end, the open Bonn iEEG dataset\n",
    "is used. The dataset which is used in this example consists in 300 iEEG samples\n",
    "(200 are seizure-free segments and 100 correspond to ictal activity). The data\n",
    "was recorded at 173.61Hz on a single channel.\n",
    "\n",
    "Some of the features used in this example were used in:\n",
    "\n",
    "Jean-Baptiste SCHIRATTI, Jean-Eudes LE DOUGET, Michel LE VAN QUYEN,\n",
    "Slim ESSID, Alexandre GRAMFORT,\n",
    "\"An ensemble learning approach to detect epileptic seizures from long\n",
    "intracranial EEG recordings\"\n",
    "Proc. IEEE ICASSP Conf. 2018\n",
    "\n",
    "<div class=\"alert alert-info\"><h4>Note</h4><p>This example is for illustration purposes, as other methods\n",
    "    may lead to better performance on such a dataset (classification of\n",
    "    \"seizure\" vs. \"non-seizure\" iEEG segments). For further information, see\n",
    "    (Andrzejak et al., 2001) and http://epileptologie-bonn.de.</p></div>\n"
   ]
  },
  {
   "cell_type": "code",
   "execution_count": 7,
   "metadata": {
    "ExecuteTime": {
     "end_time": "2021-03-12T15:47:57.947088Z",
     "start_time": "2021-03-12T15:47:57.935090Z"
    }
   },
   "outputs": [
    {
     "ename": "ModuleNotFoundError",
     "evalue": "No module named 'mne.mne_features'",
     "output_type": "error",
     "traceback": [
      "\u001b[1;31m---------------------------------------------------------------------------\u001b[0m",
      "\u001b[1;31mModuleNotFoundError\u001b[0m                       Traceback (most recent call last)",
      "\u001b[1;32m<ipython-input-7-5798b0df5ab8>\u001b[0m in \u001b[0;36m<module>\u001b[1;34m\u001b[0m\n\u001b[0;32m     17\u001b[0m \u001b[1;33m\u001b[0m\u001b[0m\n\u001b[0;32m     18\u001b[0m \u001b[1;31m# from mne import feature_extraction\u001b[0m\u001b[1;33m\u001b[0m\u001b[1;33m\u001b[0m\u001b[1;33m\u001b[0m\u001b[0m\n\u001b[1;32m---> 19\u001b[1;33m \u001b[1;32mfrom\u001b[0m \u001b[0mmne\u001b[0m\u001b[1;33m.\u001b[0m\u001b[0mmne_features\u001b[0m\u001b[1;33m.\u001b[0m\u001b[0mfeature_extraction\u001b[0m \u001b[1;32mimport\u001b[0m \u001b[0mFeatureExtractor\u001b[0m\u001b[1;33m\u001b[0m\u001b[1;33m\u001b[0m\u001b[0m\n\u001b[0m\u001b[0;32m     20\u001b[0m \u001b[1;33m\u001b[0m\u001b[0m\n\u001b[0;32m     21\u001b[0m \u001b[0mprint\u001b[0m\u001b[1;33m(\u001b[0m\u001b[0m__doc__\u001b[0m\u001b[1;33m)\u001b[0m\u001b[1;33m\u001b[0m\u001b[1;33m\u001b[0m\u001b[0m\n",
      "\u001b[1;31mModuleNotFoundError\u001b[0m: No module named 'mne.mne_features'"
     ]
    }
   ],
   "source": [
    "# Author: Jean-Baptiste Schiratti <jean.baptiste.schiratti@gmail.com>\n",
    "#         Alexandre Gramfort <alexandre.gramfort@inria.fr>\n",
    "# License: BSD 3 clause\n",
    "\n",
    "import os\n",
    "import os.path as op\n",
    "\n",
    "# from download import download\n",
    "\n",
    "import numpy as np\n",
    "import pandas as pd\n",
    "import mne\n",
    "\n",
    "from sklearn.ensemble import RandomForestClassifier\n",
    "from sklearn.model_selection import StratifiedKFold, cross_val_score\n",
    "from sklearn.pipeline import Pipeline\n",
    "\n",
    "# from mne import feature_extraction\n",
    "from mne_features.\n",
    "\n",
    "print(__doc__)"
   ]
  },
  {
   "cell_type": "markdown",
   "metadata": {},
   "source": [
    "Let us download the iEEG data from the Bonn dataset:\n",
    "\n"
   ]
  },
  {
   "cell_type": "code",
   "execution_count": null,
   "metadata": {},
   "outputs": [],
   "source": [
    "def download_bonn_ieeg(path, verbose=False):\n",
    "    base_url = 'http://epileptologie-bonn.de/cms/upload/workgroup/lehnertz/'\n",
    "    urls = [('setC', 'N.zip'), ('setD', 'F.zip'), ('setE', 'S.zip')]\n",
    "    paths = list()\n",
    "    for set_name, url_suffix in urls:\n",
    "        _path = download(op.join(base_url, url_suffix),\n",
    "                         op.join(path, set_name), kind='zip', replace=False,\n",
    "                         verbose=verbose)\n",
    "        paths.append(_path)\n",
    "    return paths\n",
    "\n",
    "\n",
    "# Download the data to ``./bonn_data``:\n",
    "paths = download_bonn_ieeg('./bonn_data')\n",
    "\n",
    "# Read the data from ``.txt`` files. Only the iEEG epochs in\n",
    "# ``./bonn_data/setE`` correspond to ictal\n",
    "# activity.\n",
    "data_segments = list()\n",
    "labels = list()\n",
    "sfreq = 173.61\n",
    "for path in paths:\n",
    "    fnames = [s for s in os.listdir(path) if s.lower().endswith('.txt')]\n",
    "    for fname in fnames:\n",
    "        _data = pd.read_csv(op.join(path, fname), sep='\\n', header=None)\n",
    "        data_segments.append(_data.values.T[None, ...])\n",
    "    if 'setE' in path:\n",
    "        labels.append(np.ones((len(fnames),)))\n",
    "    else:\n",
    "        labels.append(np.zeros((len(fnames),)))\n",
    "data = np.concatenate(data_segments)\n",
    "y = np.concatenate(labels, axis=0)\n",
    "\n",
    "# Shape of extracted data:\n",
    "print(data.shape)"
   ]
  },
  {
   "cell_type": "markdown",
   "metadata": {},
   "source": [
    "Prepare for the classification task:\n",
    "\n"
   ]
  },
  {
   "cell_type": "code",
   "execution_count": null,
   "metadata": {},
   "outputs": [],
   "source": [
    "selected_funcs = ['line_length', 'kurtosis', 'ptp_amp', 'skewness']\n",
    "\n",
    "pipe = Pipeline([('fe', FeatureExtractor(sfreq=sfreq,\n",
    "                                         selected_funcs=selected_funcs)),\n",
    "                 ('clf', RandomForestClassifier(n_estimators=100,\n",
    "                                                max_depth=4,\n",
    "                                                random_state=42))])\n",
    "skf = StratifiedKFold(n_splits=3, random_state=42)"
   ]
  },
  {
   "cell_type": "markdown",
   "metadata": {},
   "source": [
    "Print the cross-validation accuracy score:\n",
    "\n"
   ]
  },
  {
   "cell_type": "code",
   "execution_count": null,
   "metadata": {},
   "outputs": [],
   "source": [
    "scores = cross_val_score(pipe, data, y, cv=skf)\n",
    "print('Cross-validation accuracy score = %1.3f (+/- %1.5f)' % (np.mean(scores),\n",
    "                                                               np.std(scores)))"
   ]
  }
 ],
 "metadata": {
  "hide_input": false,
  "kernelspec": {
   "display_name": "Python 3",
   "language": "python",
   "name": "python3"
  },
  "language_info": {
   "codemirror_mode": {
    "name": "ipython",
    "version": 3
   },
   "file_extension": ".py",
   "mimetype": "text/x-python",
   "name": "python",
   "nbconvert_exporter": "python",
   "pygments_lexer": "ipython3",
   "version": "3.8.3"
  },
  "toc": {
   "base_numbering": 1,
   "nav_menu": {},
   "number_sections": true,
   "sideBar": true,
   "skip_h1_title": false,
   "title_cell": "Table of Contents",
   "title_sidebar": "Contents",
   "toc_cell": false,
   "toc_position": {},
   "toc_section_display": true,
   "toc_window_display": false
  }
 },
 "nbformat": 4,
 "nbformat_minor": 1
}
